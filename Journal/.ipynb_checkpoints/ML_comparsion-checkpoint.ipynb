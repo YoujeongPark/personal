{
 "cells": [
  {
   "cell_type": "code",
   "execution_count": 1,
   "metadata": {},
   "outputs": [],
   "source": [
    "from sklearn.model_selection import train_test_split\n",
    "import os\n",
    "import pandas as pd\n",
    "import numpy as np\n",
    "from sklearn.preprocessing import StandardScaler\n",
    "\n",
    "\"\"\"\n",
    "membrane_stress = 2 \n",
    "bending_stress = 3 \n",
    "\n",
    "\"\"\"\n",
    "section_row = 2"
   ]
  },
  {
   "cell_type": "code",
   "execution_count": 2,
   "metadata": {},
   "outputs": [],
   "source": [
    "# https://www.kaggle.com/umutozdemir/comparison-of-different-regression-models\n",
    "# https://www.kaggle.com/stuarthallows/using-xgboost-with-scikit-learn"
   ]
  },
  {
   "cell_type": "code",
   "execution_count": 3,
   "metadata": {},
   "outputs": [
    {
     "name": "stdout",
     "output_type": "stream",
     "text": [
      "     mean_x     std_x     max_x     min_x   Rmean_x    Rstd_x    Rmax_x  \\\n",
      "0 -0.046358 -0.218134 -0.140331  0.158506  0.028875 -0.222338 -0.239134   \n",
      "1 -0.046572 -0.218038 -0.140190  0.158543  0.021031 -0.222218 -0.238757   \n",
      "2 -0.046754 -0.217845 -0.140157  0.158299  0.014412 -0.221971 -0.238578   \n",
      "3 -0.046893 -0.217619 -0.140232  0.158205  0.009469 -0.221677 -0.238720   \n",
      "4 -0.046980 -0.217420 -0.140411  0.158266  0.006539 -0.221415 -0.238355   \n",
      "\n",
      "     Rmin_x   Imean_x    Istd_x  ...  q99_roll_std_100_z  ave_roll_std_1000_z  \\\n",
      "0  0.228354 -0.022940 -0.222451  ...           -0.219821            -0.250512   \n",
      "1  0.228143 -0.021993 -0.222306  ...           -0.219821            -0.250512   \n",
      "2  0.228185 -0.022230 -0.222025  ...           -0.219821            -0.250512   \n",
      "3  0.228269 -0.024282 -0.221698  ...           -0.219821            -0.250512   \n",
      "4  0.227159 -0.031698 -0.221414  ...           -0.219821            -0.250512   \n",
      "\n",
      "   std_roll_std_1000_z  max_roll_std_1000_z  min_roll_std_1000_z  \\\n",
      "0            -0.228597            -0.232668            -0.451183   \n",
      "1            -0.228597            -0.232668            -0.451183   \n",
      "2            -0.228597            -0.232668            -0.451183   \n",
      "3            -0.228597            -0.232668            -0.451183   \n",
      "4            -0.228597            -0.232668            -0.451183   \n",
      "\n",
      "   q01_roll_std_1000_z  q025_roll_std_1000_z  q05_roll_std_1000_z  \\\n",
      "0             -0.44023             -0.173291            -0.169287   \n",
      "1             -0.44023             -0.173291            -0.169287   \n",
      "2             -0.44023             -0.173291            -0.169287   \n",
      "3             -0.44023             -0.173291            -0.169287   \n",
      "4             -0.44023             -0.173291            -0.169287   \n",
      "\n",
      "   q75_roll_std_1000_z  q99_roll_std_1000_z  \n",
      "0            -0.247013             -0.23339  \n",
      "1            -0.247013             -0.23339  \n",
      "2            -0.247013             -0.23339  \n",
      "3            -0.247013             -0.23339  \n",
      "4            -0.247013             -0.23339  \n",
      "\n",
      "[5 rows x 117 columns]\n"
     ]
    }
   ],
   "source": [
    "#x_data = pd.read_csv(\"scaled_data_x_data.csv\")\n",
    "x_data = pd.read_csv(\"x_data.csv\")\n",
    "scaler = StandardScaler()\n",
    "scaler.fit(x_data)\n",
    "x_data = pd.DataFrame(scaler.transform(x_data), columns=x_data.columns)\n",
    "print(x_data.head(5))"
   ]
  },
  {
   "cell_type": "code",
   "execution_count": null,
   "metadata": {},
   "outputs": [],
   "source": [
    "x_data.info()"
   ]
  },
  {
   "cell_type": "code",
   "execution_count": 4,
   "metadata": {},
   "outputs": [
    {
     "data": {
      "text/html": [
       "<div>\n",
       "<style scoped>\n",
       "    .dataframe tbody tr th:only-of-type {\n",
       "        vertical-align: middle;\n",
       "    }\n",
       "\n",
       "    .dataframe tbody tr th {\n",
       "        vertical-align: top;\n",
       "    }\n",
       "\n",
       "    .dataframe thead th {\n",
       "        text-align: right;\n",
       "    }\n",
       "</style>\n",
       "<table border=\"1\" class=\"dataframe\">\n",
       "  <thead>\n",
       "    <tr style=\"text-align: right;\">\n",
       "      <th></th>\n",
       "      <th>y__data</th>\n",
       "    </tr>\n",
       "  </thead>\n",
       "  <tbody>\n",
       "    <tr>\n",
       "      <td>0</td>\n",
       "      <td>0.00214</td>\n",
       "    </tr>\n",
       "    <tr>\n",
       "      <td>1</td>\n",
       "      <td>0.00209</td>\n",
       "    </tr>\n",
       "    <tr>\n",
       "      <td>2</td>\n",
       "      <td>0.00224</td>\n",
       "    </tr>\n",
       "    <tr>\n",
       "      <td>3</td>\n",
       "      <td>0.00239</td>\n",
       "    </tr>\n",
       "    <tr>\n",
       "      <td>4</td>\n",
       "      <td>0.00241</td>\n",
       "    </tr>\n",
       "  </tbody>\n",
       "</table>\n",
       "</div>"
      ],
      "text/plain": [
       "   y__data\n",
       "0  0.00214\n",
       "1  0.00209\n",
       "2  0.00224\n",
       "3  0.00239\n",
       "4  0.00241"
      ]
     },
     "execution_count": 4,
     "metadata": {},
     "output_type": "execute_result"
    }
   ],
   "source": [
    "\"\"\"\n",
    "train_test_split    \n",
    "\"\"\"\n",
    "\n",
    "pd_data_input_y = pd.read_csv(\"7521number_final_output_data.csv\")\n",
    "# y_data_input_y = pd_data_input_y.read_excel['path1_membrane_SINT'].values.tolist()\n",
    "\n",
    "y_data = pd.DataFrame(dtype=np.float32, columns=['y__data'])\n",
    "\n",
    "for i in range(0, 7521):\n",
    "    # for i in range(len(pd_data_input_y)):\n",
    "    y_data.loc[i, 'y__data'] = pd_data_input_y.iloc[i, section_row] * 10000\n",
    "    # print(y_data.loc[i, 'y__data'])\n",
    "\n",
    "# print(\"train_y\",y_data)\n",
    "y_data.to_csv('data.csv', index=False)\n",
    "y_data.info()"
   ]
  },
  {
   "cell_type": "code",
   "execution_count": 5,
   "metadata": {},
   "outputs": [
    {
     "name": "stdout",
     "output_type": "stream",
     "text": [
      "(7521, 117)\n",
      "(7521, 1)\n"
     ]
    }
   ],
   "source": [
    "print(x_data.shape)\n",
    "print(y_data.shape)"
   ]
  },
  {
   "cell_type": "code",
   "execution_count": 6,
   "metadata": {},
   "outputs": [],
   "source": [
    "xtrain, xtest, ytrain, ytest = train_test_split(x_data, y_data, test_size=0.2, random_state=0)"
   ]
  },
  {
   "cell_type": "code",
   "execution_count": 7,
   "metadata": {},
   "outputs": [
    {
     "name": "stdout",
     "output_type": "stream",
     "text": [
      "(6016, 117)\n",
      "(6016, 1)\n",
      "(1505, 117)\n",
      "(1505, 1)\n"
     ]
    }
   ],
   "source": [
    "print(xtrain.shape)\n",
    "print(ytrain.shape)\n",
    "print(xtest.shape)\n",
    "print(ytest.shape)"
   ]
  },
  {
   "cell_type": "markdown",
   "metadata": {},
   "source": [
    "# Regression Start "
   ]
  },
  {
   "cell_type": "markdown",
   "metadata": {},
   "source": [
    "## 1. LinearRegression"
   ]
  },
  {
   "cell_type": "code",
   "execution_count": 8,
   "metadata": {},
   "outputs": [],
   "source": [
    "from sklearn.linear_model import LinearRegression\n",
    "from sklearn.model_selection import cross_val_score\n",
    "from sklearn.metrics import mean_squared_error"
   ]
  },
  {
   "cell_type": "code",
   "execution_count": 9,
   "metadata": {},
   "outputs": [
    {
     "data": {
      "text/plain": [
       "0.0715349552434786"
      ]
     },
     "execution_count": 9,
     "metadata": {},
     "output_type": "execute_result"
    }
   ],
   "source": [
    "lin_reg = LinearRegression()\n",
    "\n",
    "scores = cross_val_score(lin_reg, x_data, y_data, cv=10, n_jobs=-1, scoring = \"neg_mean_squared_error\")\n",
    "lin_rmse_scores = np.sqrt(-scores)\n",
    "lin_rmse_scores.mean()"
   ]
  },
  {
   "cell_type": "markdown",
   "metadata": {},
   "source": [
    "## 2. Ridge"
   ]
  },
  {
   "cell_type": "code",
   "execution_count": 10,
   "metadata": {},
   "outputs": [],
   "source": [
    "from sklearn.linear_model import Ridge"
   ]
  },
  {
   "cell_type": "code",
   "execution_count": 11,
   "metadata": {},
   "outputs": [],
   "source": [
    "sgd_reg_ridge = Ridge()"
   ]
  },
  {
   "cell_type": "code",
   "execution_count": 12,
   "metadata": {},
   "outputs": [
    {
     "data": {
      "text/plain": [
       "0.06167432364691159"
      ]
     },
     "execution_count": 12,
     "metadata": {},
     "output_type": "execute_result"
    }
   ],
   "source": [
    "scores_sgd_ridge = cross_val_score(sgd_reg_ridge, x_data, y_data, cv=10, n_jobs=-1, scoring = \"neg_mean_squared_error\")\n",
    "sgd_ridge_rmse_scores = np.sqrt(-scores_sgd_ridge)\n",
    "sgd_ridge_rmse_scores.mean()"
   ]
  },
  {
   "cell_type": "markdown",
   "metadata": {},
   "source": [
    "## 3. Lasso"
   ]
  },
  {
   "cell_type": "code",
   "execution_count": 13,
   "metadata": {},
   "outputs": [],
   "source": [
    "from sklearn.linear_model import Lasso\n",
    "sgd_reg_lasso = Lasso()"
   ]
  },
  {
   "cell_type": "code",
   "execution_count": 14,
   "metadata": {},
   "outputs": [
    {
     "data": {
      "text/plain": [
       "0.7775568955327007"
      ]
     },
     "execution_count": 14,
     "metadata": {},
     "output_type": "execute_result"
    }
   ],
   "source": [
    "scores_sgd_lasso = cross_val_score(sgd_reg_lasso, x_data, y_data, cv=10, n_jobs=-1, scoring = \"neg_mean_squared_error\")\n",
    "scores_sgd_lasso_rmse_scores = np.sqrt(-scores_sgd_lasso)\n",
    "scores_sgd_lasso_rmse_scores.mean()"
   ]
  },
  {
   "cell_type": "markdown",
   "metadata": {},
   "source": [
    "## 4. Elastic Net"
   ]
  },
  {
   "cell_type": "code",
   "execution_count": 15,
   "metadata": {},
   "outputs": [],
   "source": [
    "from sklearn.linear_model import ElasticNet"
   ]
  },
  {
   "cell_type": "code",
   "execution_count": 82,
   "metadata": {},
   "outputs": [],
   "source": [
    "elastic_reg = ElasticNet(random_state = 42)"
   ]
  },
  {
   "cell_type": "code",
   "execution_count": 83,
   "metadata": {},
   "outputs": [
    {
     "data": {
      "text/plain": [
       "0.5343242364684493"
      ]
     },
     "execution_count": 83,
     "metadata": {},
     "output_type": "execute_result"
    }
   ],
   "source": [
    "scores_elastic_reg = cross_val_score(elastic_reg, x_data, y_data, cv=10, n_jobs=-1, scoring = \"neg_mean_squared_error\")\n",
    "scores_elastic_reg_rmse_scores = np.sqrt(-scores_elastic_reg)\n",
    "scores_elastic_reg_rmse_scores.mean()"
   ]
  },
  {
   "cell_type": "markdown",
   "metadata": {},
   "source": [
    "## 5. SVR - Polynomial"
   ]
  },
  {
   "cell_type": "code",
   "execution_count": 17,
   "metadata": {},
   "outputs": [],
   "source": [
    "from sklearn.svm import SVR\n"
   ]
  },
  {
   "cell_type": "code",
   "execution_count": 18,
   "metadata": {},
   "outputs": [
    {
     "data": {
      "text/plain": [
       "1.8631311180198769"
      ]
     },
     "execution_count": 18,
     "metadata": {},
     "output_type": "execute_result"
    }
   ],
   "source": [
    "svm_reg_poly = SVR(kernel = \"poly\", degree = 2, C=1, epsilon = 0)\n",
    "scores_svm_poly = cross_val_score(svm_reg_poly, x_data, y_data, cv=10, n_jobs=-1, scoring = \"neg_mean_squared_error\")\n",
    "\n",
    "svm_reg_poly_scores = np.sqrt(-scores_svm_poly)\n",
    "svm_reg_poly_scores.mean()"
   ]
  },
  {
   "cell_type": "markdown",
   "metadata": {},
   "source": [
    "## 6. SVR - RBF Kernel"
   ]
  },
  {
   "cell_type": "code",
   "execution_count": 19,
   "metadata": {},
   "outputs": [
    {
     "data": {
      "text/plain": [
       "0.6421587815308145"
      ]
     },
     "execution_count": 19,
     "metadata": {},
     "output_type": "execute_result"
    }
   ],
   "source": [
    "svm_reg_rbf = SVR(kernel = \"rbf\", C=1)\n",
    "scores_svm_rbf = cross_val_score(svm_reg_rbf, x_data, y_data, cv=10, n_jobs=-1, scoring = \"neg_mean_squared_error\")\n",
    "\n",
    "svm_reg_rbf_scores = np.sqrt(-scores_svm_rbf)\n",
    "svm_reg_rbf_scores.mean()"
   ]
  },
  {
   "cell_type": "markdown",
   "metadata": {},
   "source": [
    "## 7. Random Forest"
   ]
  },
  {
   "cell_type": "code",
   "execution_count": 20,
   "metadata": {},
   "outputs": [],
   "source": [
    "from sklearn.ensemble import RandomForestRegressor"
   ]
  },
  {
   "cell_type": "code",
   "execution_count": 21,
   "metadata": {},
   "outputs": [
    {
     "data": {
      "text/plain": [
       "0.3679496901209022"
      ]
     },
     "execution_count": 21,
     "metadata": {},
     "output_type": "execute_result"
    }
   ],
   "source": [
    "RFR = RandomForestRegressor()\n",
    "scores_RFR = cross_val_score(RFR, x_data, y_data, cv=10, n_jobs=-1, scoring = \"neg_mean_squared_error\")\n",
    "\n",
    "scores_RFR_scores = np.sqrt(-scores_RFR)\n",
    "scores_RFR_scores.mean()"
   ]
  },
  {
   "cell_type": "markdown",
   "metadata": {},
   "source": [
    "## 8. XGBoostRegressor"
   ]
  },
  {
   "cell_type": "code",
   "execution_count": 22,
   "metadata": {},
   "outputs": [],
   "source": [
    "from xgboost import plot_importance\n",
    "import xgboost"
   ]
  },
  {
   "cell_type": "code",
   "execution_count": 23,
   "metadata": {},
   "outputs": [
    {
     "data": {
      "text/plain": [
       "0.32354956634818033"
      ]
     },
     "execution_count": 23,
     "metadata": {},
     "output_type": "execute_result"
    }
   ],
   "source": [
    "best_xgb_model = xgboost.XGBRegressor()\n",
    "scores_xgb = cross_val_score(best_xgb_model, x_data, y_data, cv=10, n_jobs=-1, scoring = \"neg_mean_squared_error\")\n",
    "scores_xgb_scores = np.sqrt(-scores_xgb)\n",
    "scores_xgb_scores.mean()"
   ]
  },
  {
   "cell_type": "code",
   "execution_count": 24,
   "metadata": {},
   "outputs": [
    {
     "data": {
      "text/plain": [
       "XGBRegressor(base_score=0.5, booster='gbtree', colsample_bylevel=1,\n",
       "             colsample_bynode=1, colsample_bytree=1, gamma=0,\n",
       "             importance_type='gain', learning_rate=0.1, max_delta_step=0,\n",
       "             max_depth=3, min_child_weight=1, missing=None, n_estimators=100,\n",
       "             n_jobs=1, nthread=None, objective='reg:linear', random_state=0,\n",
       "             reg_alpha=0, reg_lambda=1, scale_pos_weight=1, seed=None,\n",
       "             silent=None, subsample=1, verbosity=1)"
      ]
     },
     "execution_count": 24,
     "metadata": {},
     "output_type": "execute_result"
    }
   ],
   "source": [
    "best_xgb_model"
   ]
  },
  {
   "cell_type": "code",
   "execution_count": 25,
   "metadata": {},
   "outputs": [
    {
     "name": "stdout",
     "output_type": "stream",
     "text": [
      "[22:32:34] WARNING: /workspace/src/objective/regression_obj.cu:152: reg:linear is now deprecated in favor of reg:squarederror.\n"
     ]
    },
    {
     "data": {
      "text/plain": [
       "<matplotlib.axes._subplots.AxesSubplot at 0x7f0ad42bf828>"
      ]
     },
     "execution_count": 25,
     "metadata": {},
     "output_type": "execute_result"
    }
   ],
   "source": [
    "best_xgb_model.fit(xtrain, ytrain, early_stopping_rounds=10, eval_set=[(xtest, ytest)], verbose=False)\n",
    "xgboost.plot_importance(best_xgb_model)"
   ]
  },
  {
   "cell_type": "markdown",
   "metadata": {},
   "source": [
    "## 8. LGBM"
   ]
  },
  {
   "cell_type": "code",
   "execution_count": 26,
   "metadata": {},
   "outputs": [],
   "source": [
    "import lightgbm as lgb"
   ]
  },
  {
   "cell_type": "code",
   "execution_count": 27,
   "metadata": {},
   "outputs": [
    {
     "data": {
      "text/plain": [
       "0.8213241844540728"
      ]
     },
     "execution_count": 27,
     "metadata": {},
     "output_type": "execute_result"
    }
   ],
   "source": [
    "lgbm = lgb.LGBMRegressor()\n",
    "scores_lgbm = cross_val_score(lgbm, x_data, y_data, cv=10, n_jobs=-1, scoring = \"neg_mean_squared_error\")\n",
    "scores_lgbm_scores = np.sqrt(-scores_lgbm)\n",
    "scores_lgbm_scores.mean()"
   ]
  },
  {
   "cell_type": "code",
   "execution_count": 28,
   "metadata": {},
   "outputs": [
    {
     "data": {
      "text/html": [
       "<div>\n",
       "<style scoped>\n",
       "    .dataframe tbody tr th:only-of-type {\n",
       "        vertical-align: middle;\n",
       "    }\n",
       "\n",
       "    .dataframe tbody tr th {\n",
       "        vertical-align: top;\n",
       "    }\n",
       "\n",
       "    .dataframe thead th {\n",
       "        text-align: right;\n",
       "    }\n",
       "</style>\n",
       "<table border=\"1\" class=\"dataframe\">\n",
       "  <thead>\n",
       "    <tr style=\"text-align: right;\">\n",
       "      <th></th>\n",
       "      <th>mean_x</th>\n",
       "      <th>std_x</th>\n",
       "      <th>max_x</th>\n",
       "      <th>min_x</th>\n",
       "      <th>Rmean_x</th>\n",
       "      <th>Rstd_x</th>\n",
       "      <th>Rmax_x</th>\n",
       "      <th>Rmin_x</th>\n",
       "      <th>Imean_x</th>\n",
       "      <th>Istd_x</th>\n",
       "      <th>...</th>\n",
       "      <th>q99_roll_std_100_z</th>\n",
       "      <th>ave_roll_std_1000_z</th>\n",
       "      <th>std_roll_std_1000_z</th>\n",
       "      <th>max_roll_std_1000_z</th>\n",
       "      <th>min_roll_std_1000_z</th>\n",
       "      <th>q01_roll_std_1000_z</th>\n",
       "      <th>q025_roll_std_1000_z</th>\n",
       "      <th>q05_roll_std_1000_z</th>\n",
       "      <th>q75_roll_std_1000_z</th>\n",
       "      <th>q99_roll_std_1000_z</th>\n",
       "    </tr>\n",
       "  </thead>\n",
       "  <tbody>\n",
       "    <tr>\n",
       "      <td>count</td>\n",
       "      <td>6016.000000</td>\n",
       "      <td>6016.000000</td>\n",
       "      <td>6016.000000</td>\n",
       "      <td>6016.000000</td>\n",
       "      <td>6016.000000</td>\n",
       "      <td>6016.000000</td>\n",
       "      <td>6016.000000</td>\n",
       "      <td>6016.000000</td>\n",
       "      <td>6016.000000</td>\n",
       "      <td>6016.000000</td>\n",
       "      <td>...</td>\n",
       "      <td>6016.000000</td>\n",
       "      <td>6016.000000</td>\n",
       "      <td>6016.000000</td>\n",
       "      <td>6016.000000</td>\n",
       "      <td>6016.000000</td>\n",
       "      <td>6016.000000</td>\n",
       "      <td>6016.000000</td>\n",
       "      <td>6016.000000</td>\n",
       "      <td>6016.000000</td>\n",
       "      <td>6016.000000</td>\n",
       "    </tr>\n",
       "    <tr>\n",
       "      <td>mean</td>\n",
       "      <td>0.001917</td>\n",
       "      <td>-0.009260</td>\n",
       "      <td>-0.008264</td>\n",
       "      <td>0.008453</td>\n",
       "      <td>0.000609</td>\n",
       "      <td>-0.008558</td>\n",
       "      <td>-0.008360</td>\n",
       "      <td>0.008943</td>\n",
       "      <td>-0.002020</td>\n",
       "      <td>-0.008556</td>\n",
       "      <td>...</td>\n",
       "      <td>-0.007138</td>\n",
       "      <td>-0.009226</td>\n",
       "      <td>-0.007247</td>\n",
       "      <td>-0.006628</td>\n",
       "      <td>-0.003526</td>\n",
       "      <td>-0.003324</td>\n",
       "      <td>-0.007470</td>\n",
       "      <td>-0.007476</td>\n",
       "      <td>-0.010666</td>\n",
       "      <td>-0.006722</td>\n",
       "    </tr>\n",
       "    <tr>\n",
       "      <td>std</td>\n",
       "      <td>0.959965</td>\n",
       "      <td>0.936014</td>\n",
       "      <td>0.894491</td>\n",
       "      <td>0.905520</td>\n",
       "      <td>0.987563</td>\n",
       "      <td>0.946699</td>\n",
       "      <td>0.956588</td>\n",
       "      <td>0.946137</td>\n",
       "      <td>0.945523</td>\n",
       "      <td>0.946508</td>\n",
       "      <td>...</td>\n",
       "      <td>0.953480</td>\n",
       "      <td>0.949850</td>\n",
       "      <td>0.959443</td>\n",
       "      <td>0.967065</td>\n",
       "      <td>1.007477</td>\n",
       "      <td>1.008112</td>\n",
       "      <td>0.950886</td>\n",
       "      <td>0.947159</td>\n",
       "      <td>0.942676</td>\n",
       "      <td>0.965905</td>\n",
       "    </tr>\n",
       "    <tr>\n",
       "      <td>min</td>\n",
       "      <td>-5.359454</td>\n",
       "      <td>-0.221121</td>\n",
       "      <td>-0.141750</td>\n",
       "      <td>-30.056474</td>\n",
       "      <td>-30.926757</td>\n",
       "      <td>-0.226449</td>\n",
       "      <td>-0.243260</td>\n",
       "      <td>-17.741779</td>\n",
       "      <td>-12.157776</td>\n",
       "      <td>-0.226568</td>\n",
       "      <td>...</td>\n",
       "      <td>-0.222438</td>\n",
       "      <td>-0.257935</td>\n",
       "      <td>-0.230389</td>\n",
       "      <td>-0.235614</td>\n",
       "      <td>-0.520298</td>\n",
       "      <td>-0.517978</td>\n",
       "      <td>-0.191302</td>\n",
       "      <td>-0.180983</td>\n",
       "      <td>-0.255544</td>\n",
       "      <td>-0.236320</td>\n",
       "    </tr>\n",
       "    <tr>\n",
       "      <td>25%</td>\n",
       "      <td>-0.057226</td>\n",
       "      <td>-0.214498</td>\n",
       "      <td>-0.139862</td>\n",
       "      <td>0.127010</td>\n",
       "      <td>0.003639</td>\n",
       "      <td>-0.218688</td>\n",
       "      <td>-0.232755</td>\n",
       "      <td>0.135999</td>\n",
       "      <td>-0.034014</td>\n",
       "      <td>-0.218816</td>\n",
       "      <td>...</td>\n",
       "      <td>-0.217420</td>\n",
       "      <td>-0.243747</td>\n",
       "      <td>-0.226777</td>\n",
       "      <td>-0.228680</td>\n",
       "      <td>-0.435912</td>\n",
       "      <td>-0.434186</td>\n",
       "      <td>-0.171589</td>\n",
       "      <td>-0.164504</td>\n",
       "      <td>-0.240901</td>\n",
       "      <td>-0.229397</td>\n",
       "    </tr>\n",
       "    <tr>\n",
       "      <td>50%</td>\n",
       "      <td>-0.045873</td>\n",
       "      <td>-0.200527</td>\n",
       "      <td>-0.135174</td>\n",
       "      <td>0.152808</td>\n",
       "      <td>0.038012</td>\n",
       "      <td>-0.204406</td>\n",
       "      <td>-0.215740</td>\n",
       "      <td>0.205584</td>\n",
       "      <td>-0.023256</td>\n",
       "      <td>-0.204524</td>\n",
       "      <td>...</td>\n",
       "      <td>-0.205709</td>\n",
       "      <td>-0.218231</td>\n",
       "      <td>-0.217627</td>\n",
       "      <td>-0.213913</td>\n",
       "      <td>-0.323619</td>\n",
       "      <td>-0.323948</td>\n",
       "      <td>-0.143863</td>\n",
       "      <td>-0.140877</td>\n",
       "      <td>-0.213610</td>\n",
       "      <td>-0.214807</td>\n",
       "    </tr>\n",
       "    <tr>\n",
       "      <td>75%</td>\n",
       "      <td>-0.030396</td>\n",
       "      <td>-0.145819</td>\n",
       "      <td>-0.113351</td>\n",
       "      <td>0.158298</td>\n",
       "      <td>0.070204</td>\n",
       "      <td>-0.145851</td>\n",
       "      <td>-0.141082</td>\n",
       "      <td>0.222052</td>\n",
       "      <td>-0.010650</td>\n",
       "      <td>-0.145391</td>\n",
       "      <td>...</td>\n",
       "      <td>-0.160625</td>\n",
       "      <td>-0.133517</td>\n",
       "      <td>-0.164515</td>\n",
       "      <td>-0.159994</td>\n",
       "      <td>-0.054530</td>\n",
       "      <td>-0.060481</td>\n",
       "      <td>-0.056136</td>\n",
       "      <td>-0.066344</td>\n",
       "      <td>-0.118070</td>\n",
       "      <td>-0.160659</td>\n",
       "    </tr>\n",
       "    <tr>\n",
       "      <td>max</td>\n",
       "      <td>28.636438</td>\n",
       "      <td>20.630186</td>\n",
       "      <td>32.412376</td>\n",
       "      <td>0.160481</td>\n",
       "      <td>7.780148</td>\n",
       "      <td>18.400592</td>\n",
       "      <td>15.207898</td>\n",
       "      <td>0.231830</td>\n",
       "      <td>24.130802</td>\n",
       "      <td>18.391904</td>\n",
       "      <td>...</td>\n",
       "      <td>16.672206</td>\n",
       "      <td>14.797692</td>\n",
       "      <td>14.672866</td>\n",
       "      <td>15.087865</td>\n",
       "      <td>12.037419</td>\n",
       "      <td>12.324592</td>\n",
       "      <td>28.516137</td>\n",
       "      <td>27.071903</td>\n",
       "      <td>15.023829</td>\n",
       "      <td>14.678591</td>\n",
       "    </tr>\n",
       "  </tbody>\n",
       "</table>\n",
       "<p>8 rows × 117 columns</p>\n",
       "</div>"
      ],
      "text/plain": [
       "            mean_x        std_x        max_x        min_x      Rmean_x  \\\n",
       "count  6016.000000  6016.000000  6016.000000  6016.000000  6016.000000   \n",
       "mean      0.001917    -0.009260    -0.008264     0.008453     0.000609   \n",
       "std       0.959965     0.936014     0.894491     0.905520     0.987563   \n",
       "min      -5.359454    -0.221121    -0.141750   -30.056474   -30.926757   \n",
       "25%      -0.057226    -0.214498    -0.139862     0.127010     0.003639   \n",
       "50%      -0.045873    -0.200527    -0.135174     0.152808     0.038012   \n",
       "75%      -0.030396    -0.145819    -0.113351     0.158298     0.070204   \n",
       "max      28.636438    20.630186    32.412376     0.160481     7.780148   \n",
       "\n",
       "            Rstd_x       Rmax_x       Rmin_x      Imean_x       Istd_x  ...  \\\n",
       "count  6016.000000  6016.000000  6016.000000  6016.000000  6016.000000  ...   \n",
       "mean     -0.008558    -0.008360     0.008943    -0.002020    -0.008556  ...   \n",
       "std       0.946699     0.956588     0.946137     0.945523     0.946508  ...   \n",
       "min      -0.226449    -0.243260   -17.741779   -12.157776    -0.226568  ...   \n",
       "25%      -0.218688    -0.232755     0.135999    -0.034014    -0.218816  ...   \n",
       "50%      -0.204406    -0.215740     0.205584    -0.023256    -0.204524  ...   \n",
       "75%      -0.145851    -0.141082     0.222052    -0.010650    -0.145391  ...   \n",
       "max      18.400592    15.207898     0.231830    24.130802    18.391904  ...   \n",
       "\n",
       "       q99_roll_std_100_z  ave_roll_std_1000_z  std_roll_std_1000_z  \\\n",
       "count         6016.000000          6016.000000          6016.000000   \n",
       "mean            -0.007138            -0.009226            -0.007247   \n",
       "std              0.953480             0.949850             0.959443   \n",
       "min             -0.222438            -0.257935            -0.230389   \n",
       "25%             -0.217420            -0.243747            -0.226777   \n",
       "50%             -0.205709            -0.218231            -0.217627   \n",
       "75%             -0.160625            -0.133517            -0.164515   \n",
       "max             16.672206            14.797692            14.672866   \n",
       "\n",
       "       max_roll_std_1000_z  min_roll_std_1000_z  q01_roll_std_1000_z  \\\n",
       "count          6016.000000          6016.000000          6016.000000   \n",
       "mean             -0.006628            -0.003526            -0.003324   \n",
       "std               0.967065             1.007477             1.008112   \n",
       "min              -0.235614            -0.520298            -0.517978   \n",
       "25%              -0.228680            -0.435912            -0.434186   \n",
       "50%              -0.213913            -0.323619            -0.323948   \n",
       "75%              -0.159994            -0.054530            -0.060481   \n",
       "max              15.087865            12.037419            12.324592   \n",
       "\n",
       "       q025_roll_std_1000_z  q05_roll_std_1000_z  q75_roll_std_1000_z  \\\n",
       "count           6016.000000          6016.000000          6016.000000   \n",
       "mean              -0.007470            -0.007476            -0.010666   \n",
       "std                0.950886             0.947159             0.942676   \n",
       "min               -0.191302            -0.180983            -0.255544   \n",
       "25%               -0.171589            -0.164504            -0.240901   \n",
       "50%               -0.143863            -0.140877            -0.213610   \n",
       "75%               -0.056136            -0.066344            -0.118070   \n",
       "max               28.516137            27.071903            15.023829   \n",
       "\n",
       "       q99_roll_std_1000_z  \n",
       "count          6016.000000  \n",
       "mean             -0.006722  \n",
       "std               0.965905  \n",
       "min              -0.236320  \n",
       "25%              -0.229397  \n",
       "50%              -0.214807  \n",
       "75%              -0.160659  \n",
       "max              14.678591  \n",
       "\n",
       "[8 rows x 117 columns]"
      ]
     },
     "execution_count": 28,
     "metadata": {},
     "output_type": "execute_result"
    }
   ],
   "source": [
    "xtrain.describe()"
   ]
  },
  {
   "cell_type": "markdown",
   "metadata": {},
   "source": [
    "## 9. XGBoost Optimization"
   ]
  },
  {
   "cell_type": "code",
   "execution_count": 29,
   "metadata": {},
   "outputs": [],
   "source": [
    "import xgboost as xgb\n",
    "from bayes_opt import BayesianOptimization\n",
    "from sklearn.metrics import mean_squared_error"
   ]
  },
  {
   "cell_type": "code",
   "execution_count": 30,
   "metadata": {},
   "outputs": [],
   "source": [
    "dtrain = xgb.DMatrix(xtrain, label=ytrain)\n",
    "dtest = xgb.DMatrix(xtest)"
   ]
  },
  {
   "cell_type": "code",
   "execution_count": 55,
   "metadata": {},
   "outputs": [],
   "source": [
    "def xgb_evaluate(max_depth, gamma, colsample_bytree):\n",
    "    params = {'eval_metric': 'rmse',\n",
    "              'max_depth': int(max_depth),\n",
    "              'subsample': 0.8,\n",
    "              'eta': 0.1,\n",
    "              'gamma': gamma,\n",
    "              'colsample_bytree': colsample_bytree}\n",
    "    # Used around 1000 boosting rounds in the full model\n",
    "    cv_result = xgb.cv(params, dtrain, num_boost_round=100, nfold=3)    \n",
    "    \n",
    "    # Bayesian optimization only knows how to maximize, not minimize, so return the negative RMSE\n",
    "    return -1.0 * cv_result['test-rmse-mean'].iloc[-1]"
   ]
  },
  {
   "cell_type": "code",
   "execution_count": 56,
   "metadata": {},
   "outputs": [],
   "source": [
    "xgb_bo = BayesianOptimization(xgb_evaluate, {'max_depth': (3, 7), \n",
    "                                             'gamma': (0, 1),\n",
    "                                             'colsample_bytree': (0.3, 0.9)})"
   ]
  },
  {
   "cell_type": "code",
   "execution_count": 74,
   "metadata": {},
   "outputs": [
    {
     "data": {
      "text/plain": [
       "bayes_opt.bayesian_optimization.BayesianOptimization"
      ]
     },
     "execution_count": 74,
     "metadata": {},
     "output_type": "execute_result"
    }
   ],
   "source": [
    "type(xgb_bo)"
   ]
  },
  {
   "cell_type": "code",
   "execution_count": 57,
   "metadata": {},
   "outputs": [
    {
     "name": "stdout",
     "output_type": "stream",
     "text": [
      "|   iter    |  target   | colsam... |   gamma   | max_depth |\n",
      "-------------------------------------------------------------\n",
      "| \u001b[0m 1       \u001b[0m | \u001b[0m-0.1495  \u001b[0m | \u001b[0m 0.5648  \u001b[0m | \u001b[0m 0.84    \u001b[0m | \u001b[0m 5.464   \u001b[0m |\n",
      "| \u001b[95m 2       \u001b[0m | \u001b[95m-0.1421  \u001b[0m | \u001b[95m 0.7125  \u001b[0m | \u001b[95m 0.2458  \u001b[0m | \u001b[95m 5.01    \u001b[0m |\n",
      "| \u001b[0m 3       \u001b[0m | \u001b[0m-0.1452  \u001b[0m | \u001b[0m 0.4037  \u001b[0m | \u001b[0m 0.06587 \u001b[0m | \u001b[0m 4.32    \u001b[0m |\n",
      "| \u001b[0m 4       \u001b[0m | \u001b[0m-0.1485  \u001b[0m | \u001b[0m 0.4168  \u001b[0m | \u001b[0m 0.5821  \u001b[0m | \u001b[0m 6.647   \u001b[0m |\n",
      "| \u001b[0m 5       \u001b[0m | \u001b[0m-0.1424  \u001b[0m | \u001b[0m 0.8077  \u001b[0m | \u001b[0m 0.5588  \u001b[0m | \u001b[0m 5.364   \u001b[0m |\n",
      "| \u001b[0m 6       \u001b[0m | \u001b[0m-0.1475  \u001b[0m | \u001b[0m 0.8556  \u001b[0m | \u001b[0m 0.9453  \u001b[0m | \u001b[0m 5.705   \u001b[0m |\n",
      "| \u001b[0m 7       \u001b[0m | \u001b[0m-0.145   \u001b[0m | \u001b[0m 0.4306  \u001b[0m | \u001b[0m 0.6165  \u001b[0m | \u001b[0m 5.405   \u001b[0m |\n",
      "| \u001b[0m 8       \u001b[0m | \u001b[0m-0.1468  \u001b[0m | \u001b[0m 0.3501  \u001b[0m | \u001b[0m 0.7635  \u001b[0m | \u001b[0m 5.32    \u001b[0m |\n",
      "| \u001b[0m 9       \u001b[0m | \u001b[0m-0.1453  \u001b[0m | \u001b[0m 0.4112  \u001b[0m | \u001b[0m 0.2687  \u001b[0m | \u001b[0m 6.209   \u001b[0m |\n",
      "| \u001b[0m 10      \u001b[0m | \u001b[0m-0.1425  \u001b[0m | \u001b[0m 0.8208  \u001b[0m | \u001b[0m 0.09055 \u001b[0m | \u001b[0m 4.684   \u001b[0m |\n",
      "| \u001b[95m 11      \u001b[0m | \u001b[95m-0.1395  \u001b[0m | \u001b[95m 0.8847  \u001b[0m | \u001b[95m 0.008396\u001b[0m | \u001b[95m 3.059   \u001b[0m |\n",
      "| \u001b[95m 12      \u001b[0m | \u001b[95m-0.1379  \u001b[0m | \u001b[95m 0.8925  \u001b[0m | \u001b[95m 0.03305 \u001b[0m | \u001b[95m 3.0     \u001b[0m |\n",
      "| \u001b[0m 13      \u001b[0m | \u001b[0m-0.1398  \u001b[0m | \u001b[0m 0.8773  \u001b[0m | \u001b[0m 0.01026 \u001b[0m | \u001b[0m 3.012   \u001b[0m |\n",
      "| \u001b[0m 14      \u001b[0m | \u001b[0m-0.1396  \u001b[0m | \u001b[0m 0.8812  \u001b[0m | \u001b[0m 0.01854 \u001b[0m | \u001b[0m 3.017   \u001b[0m |\n",
      "| \u001b[0m 15      \u001b[0m | \u001b[0m-0.139   \u001b[0m | \u001b[0m 0.899   \u001b[0m | \u001b[0m 0.03401 \u001b[0m | \u001b[0m 3.021   \u001b[0m |\n",
      "| \u001b[95m 16      \u001b[0m | \u001b[95m-0.1379  \u001b[0m | \u001b[95m 0.8934  \u001b[0m | \u001b[95m 0.004811\u001b[0m | \u001b[95m 3.043   \u001b[0m |\n",
      "| \u001b[0m 17      \u001b[0m | \u001b[0m-0.1395  \u001b[0m | \u001b[0m 0.8864  \u001b[0m | \u001b[0m 0.01244 \u001b[0m | \u001b[0m 3.021   \u001b[0m |\n",
      "| \u001b[0m 18      \u001b[0m | \u001b[0m-0.1385  \u001b[0m | \u001b[0m 0.8983  \u001b[0m | \u001b[0m 0.009991\u001b[0m | \u001b[0m 3.067   \u001b[0m |\n",
      "| \u001b[0m 19      \u001b[0m | \u001b[0m-0.1395  \u001b[0m | \u001b[0m 0.8816  \u001b[0m | \u001b[0m 0.01358 \u001b[0m | \u001b[0m 3.036   \u001b[0m |\n",
      "| \u001b[0m 20      \u001b[0m | \u001b[0m-0.1387  \u001b[0m | \u001b[0m 0.8998  \u001b[0m | \u001b[0m 0.02241 \u001b[0m | \u001b[0m 3.005   \u001b[0m |\n",
      "=============================================================\n",
      "CPU times: user 3min 12s, sys: 1.66 s, total: 3min 13s\n",
      "Wall time: 3min 11s\n"
     ]
    }
   ],
   "source": [
    "%%time\n",
    "xgb_bo.maximize(init_points=10, n_iter=10)"
   ]
  },
  {
   "cell_type": "code",
   "execution_count": 78,
   "metadata": {},
   "outputs": [
    {
     "name": "stdout",
     "output_type": "stream",
     "text": [
      "Iteration 0 : \n",
      "\t{'target': -0.14949933333333335, 'params': {'colsample_bytree': 0.5647728248785507, 'gamma': 0.8399760004780064, 'max_depth': 5.463715806478084}}\n",
      "Iteration 1 : \n",
      "\t{'target': -0.14213333333333333, 'params': {'colsample_bytree': 0.712455094459052, 'gamma': 0.2457750287924868, 'max_depth': 5.010386037421544}}\n",
      "Iteration 2 : \n",
      "\t{'target': -0.14516033333333334, 'params': {'colsample_bytree': 0.40374605530169083, 'gamma': 0.06586851828453244, 'max_depth': 4.320363653232502}}\n",
      "Iteration 3 : \n",
      "\t{'target': -0.14854866666666666, 'params': {'colsample_bytree': 0.41684050721423055, 'gamma': 0.5821478232397721, 'max_depth': 6.647078026832908}}\n",
      "Iteration 4 : \n",
      "\t{'target': -0.14239133333333334, 'params': {'colsample_bytree': 0.8076900846272834, 'gamma': 0.5588221181110483, 'max_depth': 5.364345839412916}}\n",
      "Iteration 5 : \n",
      "\t{'target': -0.147539, 'params': {'colsample_bytree': 0.85558089999009, 'gamma': 0.9453464380025168, 'max_depth': 5.7051973485311684}}\n",
      "Iteration 6 : \n",
      "\t{'target': -0.14504733333333333, 'params': {'colsample_bytree': 0.4305651110041965, 'gamma': 0.6164792725169639, 'max_depth': 5.405406346620959}}\n",
      "Iteration 7 : \n",
      "\t{'target': -0.14680066666666666, 'params': {'colsample_bytree': 0.3500944131352, 'gamma': 0.7635080521855548, 'max_depth': 5.32006430336553}}\n",
      "Iteration 8 : \n",
      "\t{'target': -0.14532399999999998, 'params': {'colsample_bytree': 0.41119095282376217, 'gamma': 0.26869118206202114, 'max_depth': 6.208804032733783}}\n",
      "Iteration 9 : \n",
      "\t{'target': -0.142458, 'params': {'colsample_bytree': 0.8207983275235602, 'gamma': 0.09054642403768298, 'max_depth': 4.6841988777570265}}\n",
      "Iteration 10 : \n",
      "\t{'target': -0.13952133333333333, 'params': {'colsample_bytree': 0.8847460478500162, 'gamma': 0.008396005084836844, 'max_depth': 3.0593347488065064}}\n",
      "Iteration 11 : \n",
      "\t{'target': -0.1378946666666667, 'params': {'colsample_bytree': 0.8924601504826686, 'gamma': 0.03305128708085758, 'max_depth': 3.0002902595009484}}\n",
      "Iteration 12 : \n",
      "\t{'target': -0.13975566666666664, 'params': {'colsample_bytree': 0.8772908378203255, 'gamma': 0.010259077421818308, 'max_depth': 3.0116654894804156}}\n",
      "Iteration 13 : \n",
      "\t{'target': -0.13955833333333334, 'params': {'colsample_bytree': 0.8811632134124163, 'gamma': 0.018541843128993207, 'max_depth': 3.017367481370282}}\n",
      "Iteration 14 : \n",
      "\t{'target': -0.13895266666666667, 'params': {'colsample_bytree': 0.8990140355992964, 'gamma': 0.034011692833322726, 'max_depth': 3.0205950579881664}}\n",
      "Iteration 15 : \n",
      "\t{'target': -0.13786333333333334, 'params': {'colsample_bytree': 0.8934146649071832, 'gamma': 0.004810855660138058, 'max_depth': 3.04349432859441}}\n",
      "Iteration 16 : \n",
      "\t{'target': -0.13951666666666665, 'params': {'colsample_bytree': 0.8864258104540252, 'gamma': 0.012439375610377224, 'max_depth': 3.0213591861551614}}\n",
      "Iteration 17 : \n",
      "\t{'target': -0.13845866666666667, 'params': {'colsample_bytree': 0.8982956480622437, 'gamma': 0.009990597445777571, 'max_depth': 3.066775017410979}}\n",
      "Iteration 18 : \n",
      "\t{'target': -0.13951100000000002, 'params': {'colsample_bytree': 0.8815933197790187, 'gamma': 0.01357698940116725, 'max_depth': 3.0358621443837523}}\n",
      "Iteration 19 : \n",
      "\t{'target': -0.13868166666666668, 'params': {'colsample_bytree': 0.8998240875513566, 'gamma': 0.022405819374467395, 'max_depth': 3.004559919822119}}\n"
     ]
    }
   ],
   "source": [
    "for i, res in enumerate(xgb_bo.res):\n",
    "    print('Iteration {} : \\n\\t{}'.format(i,res))\n"
   ]
  },
  {
   "cell_type": "code",
   "execution_count": 79,
   "metadata": {},
   "outputs": [
    {
     "name": "stdout",
     "output_type": "stream",
     "text": [
      "Final result :  {'target': -0.13786333333333334, 'params': {'colsample_bytree': 0.8934146649071832, 'gamma': 0.004810855660138058, 'max_depth': 3.04349432859441}}\n"
     ]
    }
   ],
   "source": [
    "print(\"Final result : \", xgb_bo.max)"
   ]
  },
  {
   "cell_type": "code",
   "execution_count": 89,
   "metadata": {},
   "outputs": [],
   "source": [
    "xgb2 = xgb.train(xgb_bo.max, dtrain , 100)\n",
    "#lgb2 = lgb.train(params, d_train, 100)\n",
    "xgb_prob = xgb2.predict( dtest )"
   ]
  },
  {
   "cell_type": "code",
   "execution_count": 94,
   "metadata": {},
   "outputs": [
    {
     "data": {
      "text/plain": [
       "0.046734247"
      ]
     },
     "execution_count": 94,
     "metadata": {},
     "output_type": "execute_result"
    }
   ],
   "source": [
    "from sklearn.metrics import mean_squared_error\n",
    "\n",
    "mean_squared_error(ytest, xgb_prob)"
   ]
  },
  {
   "cell_type": "code",
   "execution_count": 93,
   "metadata": {},
   "outputs": [
    {
     "data": {
      "image/png": "[encoded data removed]",
      "text/plain": [
       "<Figure size 720x1440 with 1 Axes>"
      ]
     },
     "metadata": {
      "needs_background": "light"
     },
     "output_type": "display_data"
    }
   ],
   "source": [
    "import matplotlib.pyplot as plt\n",
    "fix,ax = plt.subplots(figsize = (10,20))\n",
    "plot_importance(xgb2, ax = ax)\n",
    "plt.show()"
   ]
  },
  {
   "cell_type": "markdown",
   "metadata": {},
   "source": [
    "## 11. LHBM Optimization"
   ]
  },
  {
   "cell_type": "code",
   "execution_count": null,
   "metadata": {
    "scrolled": true
   },
   "outputs": [
    {
     "name": "stdout",
     "output_type": "stream",
     "text": [
      "|   iter    |  target   | featur... | max_depth | min_ch... | min_sp... | num_le... |\n",
      "-------------------------------------------------------------------------------------\n",
      "| \u001b[0m 1       \u001b[0m | \u001b[0m-0.7327  \u001b[0m | \u001b[0m 0.5391  \u001b[0m | \u001b[0m 7.861   \u001b[0m | \u001b[0m 32.12   \u001b[0m | \u001b[0m 0.05494 \u001b[0m | \u001b[0m 242.4   \u001b[0m |\n",
      "| \u001b[0m 2       \u001b[0m | \u001b[0m-0.7479  \u001b[0m | \u001b[0m 0.6167  \u001b[0m | \u001b[0m 6.75    \u001b[0m | \u001b[0m 45.13   \u001b[0m | \u001b[0m 0.0964  \u001b[0m | \u001b[0m 238.3   \u001b[0m |\n",
      "| \u001b[95m 3       \u001b[0m | \u001b[95m-0.7177  \u001b[0m | \u001b[95m 0.7334  \u001b[0m | \u001b[95m 7.116   \u001b[0m | \u001b[95m 30.56   \u001b[0m | \u001b[95m 0.09263 \u001b[0m | \u001b[95m 207.1   \u001b[0m |\n",
      "| \u001b[0m 4       \u001b[0m | \u001b[0m-0.7434  \u001b[0m | \u001b[0m 0.1697  \u001b[0m | \u001b[0m 5.081   \u001b[0m | \u001b[0m 42.47   \u001b[0m | \u001b[0m 0.07804 \u001b[0m | \u001b[0m 287.0   \u001b[0m |\n",
      "| \u001b[95m 5       \u001b[0m | \u001b[95m-0.6949  \u001b[0m | \u001b[95m 0.8829  \u001b[0m | \u001b[95m 8.197   \u001b[0m | \u001b[95m 25.77   \u001b[0m | \u001b[95m 0.07827 \u001b[0m | \u001b[95m 211.8   \u001b[0m |\n",
      "| \u001b[0m 6       \u001b[0m | \u001b[0m-0.7549  \u001b[0m | \u001b[0m 0.6119  \u001b[0m | \u001b[0m 5.573   \u001b[0m | \u001b[0m 47.51   \u001b[0m | \u001b[0m 0.05266 \u001b[0m | \u001b[0m 241.5   \u001b[0m |\n",
      "| \u001b[95m 7       \u001b[0m | \u001b[95m-0.694   \u001b[0m | \u001b[95m 0.3116  \u001b[0m | \u001b[95m 8.097   \u001b[0m | \u001b[95m 25.53   \u001b[0m | \u001b[95m 0.05727 \u001b[0m | \u001b[95m 201.9   \u001b[0m |\n",
      "| \u001b[0m 8       \u001b[0m | \u001b[0m-0.7329  \u001b[0m | \u001b[0m 0.5941  \u001b[0m | \u001b[0m 7.448   \u001b[0m | \u001b[0m 32.76   \u001b[0m | \u001b[0m 0.09443 \u001b[0m | \u001b[0m 268.2   \u001b[0m |\n",
      "| \u001b[0m 9       \u001b[0m | \u001b[0m-0.7397  \u001b[0m | \u001b[0m 0.3876  \u001b[0m | \u001b[0m 6.748   \u001b[0m | \u001b[0m 36.39   \u001b[0m | \u001b[0m 0.006962\u001b[0m | \u001b[0m 266.7   \u001b[0m |\n",
      "| \u001b[95m 10      \u001b[0m | \u001b[95m-0.6661  \u001b[0m | \u001b[95m 0.6365  \u001b[0m | \u001b[95m 5.842   \u001b[0m | \u001b[95m 10.8    \u001b[0m | \u001b[95m 0.03223 \u001b[0m | \u001b[95m 236.4   \u001b[0m |\n"
     ]
    }
   ],
   "source": [
    "def bayes_parameter_opt_lgb(X, y, init_round=15, opt_round=25, n_folds=5, random_seed=0, n_estimators=10000, learning_rate=0.05, output_process=False):\n",
    "    # prepare data\n",
    "    #train_data = lgb.Dataset(data=X, label=y, categorical_feature = list(X.columns),free_raw_data=False)\n",
    "    train_data = lgb.Dataset(data=X, label=y,free_raw_data=False)\n",
    "    \n",
    "    # parameters\n",
    "\n",
    "    def lgb_eval(num_leaves, feature_fraction, max_depth , min_split_gain, min_child_weight):\n",
    "        params = {\n",
    "            \"objective\" : \"regression\", \"bagging_fraction\" : 0.8, \"bagging_freq\": 1,\n",
    "            \"min_child_samples\": 20, \"reg_alpha\": 1, \"reg_lambda\": 1,\"boosting\": \"rf\",\n",
    "            \"learning_rate\" : 0.01, \"subsample\" : 0.8, \"colsample_bytree\" : 0.8, \"verbosity\": -1, \"metric\" : 'rmse'\n",
    "        }\n",
    "        params['feature_fraction'] = max(min(feature_fraction, 1), 0)\n",
    "        params['max_depth'] = int(round(max_depth))\n",
    "        params['num_leaves'] = int(round(num_leaves))\n",
    "        params['min_split_gain'] = min_split_gain\n",
    "        params['min_child_weight'] = min_child_weight\n",
    "        cv_result = lgb.cv(params, train_data, nfold=n_folds, seed=random_seed, verbose_eval =200,stratified=False)\n",
    "        return (-1.0 * np.array(cv_result['rmse-mean'])).max()\n",
    "    \n",
    "    \n",
    "        # range \n",
    "    lgbBO = BayesianOptimization(lgb_eval, {'feature_fraction': (0.1, 0.9),\n",
    "                                            'max_depth': (5, 9),\n",
    "                                            'num_leaves' : (200,300),\n",
    "                                            'min_split_gain': (0.001, 0.1),\n",
    "                                            'min_child_weight': (5, 50)}, random_state=0)\n",
    "        # optimize\n",
    "    lgbBO.maximize(init_points=init_round, n_iter=opt_round,acq='ei')\n",
    "\n",
    "        # output optimization process\n",
    "    if output_process==True: lgbBO.points_to_csv(\"bayes_opt_result.csv\")\n",
    "\n",
    "        # return best parameters\n",
    "    return lgbBO.max\n",
    "\n",
    "opt_params = bayes_parameter_opt_lgb(xtrain, ytrain, init_round=10, opt_round=10, n_folds=5, random_seed=0, n_estimators=1000, learning_rate=0.01)"
   ]
  },
  {
   "cell_type": "code",
   "execution_count": null,
   "metadata": {},
   "outputs": [],
   "source": [
    "opt_params"
   ]
  },
  {
   "cell_type": "code",
   "execution_count": null,
   "metadata": {},
   "outputs": [],
   "source": []
  },
  {
   "cell_type": "markdown",
   "metadata": {},
   "source": [
    "# cf. Neural Network"
   ]
  },
  {
   "cell_type": "code",
   "execution_count": null,
   "metadata": {},
   "outputs": [],
   "source": [
    "from keras.wrappers.scikit_learn import KerasRegressor\n",
    "from sklearn.model_selection import cross_val_score\n",
    "from keras.models import Sequential \n",
    "from keras.layers import Dense"
   ]
  },
  {
   "cell_type": "code",
   "execution_count": null,
   "metadata": {},
   "outputs": [],
   "source": [
    "def buildclassifier():\n",
    "    classifier = Sequential() #initialize NN\n",
    "    classifier.add(Dense(units = 80, kernel_initializer = 'uniform',activation = 'tanh', input_dim =xtrain.shape[1]))\n",
    "    classifier.add(Dense(units = 40, kernel_initializer = 'uniform',activation = 'tanh'))\n",
    "    classifier.add(Dense(units = 20, kernel_initializer = 'uniform',activation = 'relu'))\n",
    "    classifier.add(Dense(units = 10, kernel_initializer = 'uniform',activation = 'relu'))\n",
    "    classifier.add(Dense(units = 1, kernel_initializer = 'uniform',activation = 'sigmoid'))\n",
    "    classifier.compile(optimizer = 'adam',loss = 'mean_squared_error')\n",
    "    return classifier"
   ]
  },
  {
   "cell_type": "code",
   "execution_count": null,
   "metadata": {},
   "outputs": [],
   "source": [
    "classifier = KerasRegressor(build_fn = buildclassifier, epochs = 200)\n",
    "scores_AL = cross_val_score(estimator = classifier, X = xtrain, y= ytrain, cv = 10, scoring = \"neg_mean_squared_error\")"
   ]
  },
  {
   "cell_type": "code",
   "execution_count": null,
   "metadata": {},
   "outputs": [],
   "source": [
    "scores_AL_scores = np.sqrt(-scores_AL)\n",
    "scores_AL_scores.mean()\n",
    "mean = accuracies.mean()\n",
    "variance = accuracies.std()\n",
    "print(\"Accuracy mean: \"+ str(mean))\n",
    "print(\"Accuracy variance: \"+ str(variance))"
   ]
  }
 ],
 "metadata": {
  "kernelspec": {
   "display_name": "py36",
   "language": "python",
   "name": "py36"
  },
  "language_info": {
   "codemirror_mode": {
    "name": "ipython",
    "version": 3
   },
   "file_extension": ".py",
   "mimetype": "text/x-python",
   "name": "python",
   "nbconvert_exporter": "python",
   "pygments_lexer": "ipython3",
   "version": "3.6.9"
  }
 },
 "nbformat": 4,
 "nbformat_minor": 2
}
